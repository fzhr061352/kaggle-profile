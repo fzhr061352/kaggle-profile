{
  "cells": [
    {
      "metadata": {
        "_uuid": "8f2839f25d086af736a60e9eeb907d3b93b6e0e5",
        "_cell_guid": "b1076dfc-b9ad-4769-8c92-a6c4dae69d19",
        "trusted": true
      },
      "cell_type": "code",
      "source": "import numpy as np \nimport pandas as pd \nimport matplotlib.pyplot as plt\nimport seaborn as sns\nimport xgboost as xgb\nfrom sklearn.ensemble import RandomForestClassifier\nfrom sklearn.model_selection import train_test_split \nimport os\nimport warnings # Ignore warnings\nwarnings.filterwarnings('ignore')\n#显示所有列\npd.set_option('display.max_columns', None)\n#显示所有行\npd.set_option('display.max_rows', None)\nnp.set_printoptions(precision=2)\n\n# Input data\ndf_train = pd.read_csv('../input/train.csv')\ndf_test = pd.read_csv('../input/test.csv')\n\n# Any results you write to the current directory are saved as output.",
      "execution_count": null,
      "outputs": []
    },
    {
      "metadata": {
        "trusted": true,
        "_uuid": "2446da572d76b90162927adbb5ad6fa3ed46dc05"
      },
      "cell_type": "code",
      "source": "df_train.describe()",
      "execution_count": null,
      "outputs": []
    },
    {
      "metadata": {
        "trusted": true,
        "_uuid": "d3996c1cc4a38bc3e6c50fe5ea4c48df8117785f"
      },
      "cell_type": "code",
      "source": "#The difference between train set and test set on Age\nsns.kdeplot(df_train.Age, label='df_train')\nsns.kdeplot(df_test.Age, label='df_test')",
      "execution_count": null,
      "outputs": []
    },
    {
      "metadata": {
        "trusted": true,
        "_uuid": "755c394fe6cad8fcfd4d65a31c246e5a734d2d0e"
      },
      "cell_type": "code",
      "source": "#The difference between train set and test set on Fare\nsns.kdeplot(df_train.Fare, label='df_train')\nsns.kdeplot(df_test.Fare, label='df_test')",
      "execution_count": null,
      "outputs": []
    },
    {
      "metadata": {
        "trusted": true,
        "_uuid": "f5e0779823750d8017bfaa76967087f1322b7548"
      },
      "cell_type": "code",
      "source": "#The difference between train set and test set on Sex\n#plt.(df_train.Sex)#, y=df_test.Sex, kind=\"kde\"\nprint('female raito in df_train: {:.2f},\\nfemale raito in df_test: {:.2f}'\n     .format(sum(df_train.Sex=='female')/df_train.shape[0],\n             sum(df_test.Sex=='female')/df_test.shape[0]))",
      "execution_count": null,
      "outputs": []
    },
    {
      "metadata": {
        "trusted": true,
        "_uuid": "8e3099dc9b08a2a834426484c188bd3129f1b05e"
      },
      "cell_type": "code",
      "source": "print(df_train.info())\nprint()\nprint(df_test.info())",
      "execution_count": null,
      "outputs": []
    },
    {
      "metadata": {
        "trusted": true,
        "_uuid": "921ae6dfdac1a5d32f1cf32f9673e7991a3d19e7"
      },
      "cell_type": "code",
      "source": "print(df_train.describe())\nprint()\nprint(df_test.describe())",
      "execution_count": null,
      "outputs": []
    },
    {
      "metadata": {
        "trusted": true,
        "_uuid": "2924789786a150f3ebf3d6782da4c7384f777b95"
      },
      "cell_type": "code",
      "source": "#df_full = df_train.append(df_test, ignore_index=True)\n#df_full.head()",
      "execution_count": null,
      "outputs": []
    },
    {
      "metadata": {
        "trusted": true,
        "_uuid": "b265911597ebbb6693388a5ac59be2d84ea31f66"
      },
      "cell_type": "code",
      "source": "# A heat map of correlation \ncorr = df_train.corr()\n_ , ax = plt.subplots(figsize=(12, 12))\ncmap = sns.diverging_palette( 220 , 10 , as_cmap = True )\n_ = sns.heatmap(corr, cmap = cmap, square=True, cbar_kws={ 'shrink' : .9 },\n                ax=ax, annot = True, annot_kws = { 'fontsize' : 12 })",
      "execution_count": null,
      "outputs": []
    },
    {
      "metadata": {
        "trusted": true,
        "_uuid": "3758217aaa67d8dcb2a16dc5d5517a60b4697335"
      },
      "cell_type": "code",
      "source": "# Parameter----Age\n#df_train['Age'] = df_train.Age.fillna(round(df_train.Age.mean()))\n#df_test['Age'] = df_test.Age.fillna(round(df_test.Age.mean()))\ndef age_fill(full_data)：\n    for dataset in full_data:\n        age_avg = dataset['Age'].mean()\n        age_std = dataset['Age'].std()\n        age_null_count = dataset['Age'].isnull().sum()\n        age_null_random_list = np.random.randint(age_avg - age_std, age_avg + age_std, size=age_null_count)\n        dataset['Age'][np.isnan(dataset['Age'])] = age_null_random_list\n        dataset['Age'] = dataset['Age'].astype(int)\n    return dataset['Age']\ndf_train['Age'] = age_fill(df_train)\ndf_test['Age'] = age_fill(df_test)\n        \n# Parameter----Cabin\ndf_train['Cabin'] = df_train.Cabin.fillna('N')\ndf_train['Cabin'] = df_train.Cabin.map(lambda x: x[0])\ndf_test['Cabin'] = df_test.Cabin.fillna('N')\ndf_test['Cabin'] = df_test.Cabin.map(lambda x: x[0])\n\n# Parameter----Name\ndf_train['Name'] = df_train.Name.map(lambda x: x.split(',')[1].\n                                     split('.')[0].strip())\ndf_test['Name'] = df_test.Name.map(lambda x: x.split(',')[1].\n                                     split('.')[0].strip())\n## a map of more aggregated titles\nName_Dictionary = {\"Capt\":       \"Officer\",\n                    \"Col\":        \"Officer\",\n                    \"Major\":      \"Officer\",\n                    \"Jonkheer\":   \"Royalty\",\n                    \"Don\":        \"Royalty\",\n                    \"Sir\" :       \"Royalty\",\n                    \"Dr\":         \"Officer\",\n                    \"Rev\":        \"Officer\",\n                    \"the Countess\":\"Royalty\",\n                    \"Dona\":       \"Royalty\",\n                    \"Mme\":        \"Mrs\",\n                    \"Mlle\":       \"Miss\",\n                    \"Ms\":         \"Mrs\",\n                    \"Mr\" :        \"Mr\",\n                    \"Mrs\" :       \"Mrs\",\n                    \"Miss\" :      \"Miss\",\n                    \"Master\" :    \"Master\",\n                    \"Lady\" :      \"Royalty\"}\ndf_train['Name'] = df_train.Name.map( Name_Dictionary )\ndf_test['Name'] = df_test.Name.map( Name_Dictionary )\n\n# Parameter----PassengerId\ndel df_train['PassengerId']\ndel df_test['PassengerId']\n\n# Parameter----Ticket\ndf_train['Ticket'] = df_train.Ticket.map(lambda x: x.split()[0].replace(',','').replace('.','').\n                                       replace('/','').replace(' ','').strip()[:2])\ndf_test['Ticket'] = df_test.Ticket.map(lambda x: x.split()[0].replace(',','').replace('.','').\n                                       replace('/','').replace(' ','').strip()[:2])\ndef nb_rid(df_full.Ticket):\n    df_full.Ticket.where(isdigit())=='Nb'\n    for i in range(len(df_full.Ticket)):\n        if df_full.Ticket[i].isdigit():\n            df_full.Ticket[i] = 'Nb'\n    return df_full.Ticket\ndf_train['Ticket'] = nb_rid(df_train.Ticket)\ndf_test['Ticket'] = nb_rid(df_test.Ticket)\n",
      "execution_count": null,
      "outputs": []
    },
    {
      "metadata": {
        "trusted": true,
        "_uuid": "44a5c9a493f894c9cc2e71750ce09dfdefb12b01"
      },
      "cell_type": "code",
      "source": "df_full = df_train.append(df_test, ignore_index=True)",
      "execution_count": null,
      "outputs": []
    },
    {
      "metadata": {
        "trusted": true,
        "_uuid": "24d208cbc8579af3581eb7999129430d5d512608"
      },
      "cell_type": "code",
      "source": "# Parameter----Age\nfor i in range(df_full.shape[0]):\n    if df_full.Age[i] <= 15:\n        df_full.Age[i] = 'Child'\n    elif 15 < df_full.Age[i] <= 35:\n        df_full.Age[i] = 'Younth'\n    elif 35 < df_full.Age[i] <= 50:\n        df_full.Age[i] = 'Adult'\n    elif 50 <= df_full.Age[i]:\n        df_full.Age[i] = 'Old'\n    else:\n        df_full.Age[i] = 'Error'\n        \n# Parameter----Fare\nfor i in range(df_full.shape[0]):\n    if df_full.Fare[i] <= 8:\n        df_full.Fare[i] = 'Low'\n    elif 8 < df_full.Fare[i] <= 32:\n        df_full.Fare[i] = 'Normal'\n    elif 32 < df_full.Fare[i] <= 67:\n        df_full.Fare[i] = 'High'\n    elif 67 <= df_full.Fare[i]:\n        df_full.Fare[i] = 'Very high'\n    else:\n        df_full.Fare[i] = 'Error'",
      "execution_count": null,
      "outputs": []
    },
    {
      "metadata": {
        "trusted": true,
        "_uuid": "c9a3afd4f71861fed6b7310cff282a6a2c8106c6"
      },
      "cell_type": "code",
      "source": "# Parameter----Relation\n#df_full['Relation'] = df_full['Parch'] + df_full['SibSp']\n#df_full.Relation\n",
      "execution_count": null,
      "outputs": []
    },
    {
      "metadata": {
        "trusted": true,
        "_uuid": "011f181b99a33cfd48fa0700efe9f58e2350d664"
      },
      "cell_type": "code",
      "source": "df_full = pd.get_dummies(df_full)\n\nParch = pd.get_dummies( df_full.Parch , prefix='Parch' )\nPclass = pd.get_dummies( df_full.Pclass , prefix='Pclass' )\nSibSp = pd.get_dummies( df_full.SibSp , prefix='SibSp' )\n\ndf_full.drop(['Parch', 'Pclass', 'SibSp'], axis=1,inplace=True)\n",
      "execution_count": null,
      "outputs": []
    },
    {
      "metadata": {
        "trusted": true,
        "_uuid": "4303754a9dec99c8218e02e96fd976164e139c28"
      },
      "cell_type": "code",
      "source": "df_full = pd.concat([df_full, Parch, Pclass, SibSp], axis=1) ",
      "execution_count": null,
      "outputs": []
    },
    {
      "metadata": {
        "trusted": true,
        "_uuid": "0aedfae7415d6f9e6d2e75e76e5947dec78a2340"
      },
      "cell_type": "code",
      "source": "df_train = df_full[:891]\ndf_test = df_full[891:]\ndf_train_y = df_train.pop('Survived')\nX_train, X_test, y_train, y_test = train_test_split(df_train, df_train_y, random_state=0)\nrf = RandomForestClassifier(n_estimators=300).fit(X_train,y_train)\n      \nprint('Accuracy of GBDT classifier on training set: {:.2f}'\n     .format(rf.score(X_train, y_train)))\nprint('Accuracy of GBDT classifier on test set: {:.2f}'\n     .format(rf.score(X_test, y_test)))",
      "execution_count": null,
      "outputs": []
    },
    {
      "metadata": {
        "trusted": true,
        "_uuid": "7eb491732170e407f9a277c763a00e2f1d21faf5"
      },
      "cell_type": "code",
      "source": "test_Y = rf.predict( df_test.drop('Survived', axis=1) ).astype(int)\npassenger_id = pd.Series(np.arange(892,1310,1))\ntest = pd.DataFrame( { 'PassengerId': passenger_id , 'Survived': test_Y } )\ntest.shape\ntest.head()\ntest.to_csv( 'titanic_pred.csv' , index = False )",
      "execution_count": null,
      "outputs": []
    },
    {
      "metadata": {
        "trusted": true,
        "_uuid": "a4e38e9b5145f53c1d054e8caa51370de2d764a3"
      },
      "cell_type": "code",
      "source": "",
      "execution_count": null,
      "outputs": []
    }
  ],
  "metadata": {
    "kernelspec": {
      "display_name": "Python 3",
      "language": "python",
      "name": "python3"
    },
    "language_info": {
      "name": "python",
      "version": "3.6.6",
      "mimetype": "text/x-python",
      "codemirror_mode": {
        "name": "ipython",
        "version": 3
      },
      "pygments_lexer": "ipython3",
      "nbconvert_exporter": "python",
      "file_extension": ".py"
    }
  },
  "nbformat": 4,
  "nbformat_minor": 1
}